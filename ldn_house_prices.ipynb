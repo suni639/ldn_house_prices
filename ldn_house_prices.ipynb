{
 "cells": [
  {
   "cell_type": "markdown",
   "id": "3895b305",
   "metadata": {},
   "source": [
    "## 1. Introduction <a id=\"1\"></a>\n",
    "\n",
    "This notebook explores how the house prices in London have changed over the period of 1995 to 2020.\n",
    "\n",
    "![title](Pictures\\london_houses.jpg)\n",
    "\n",
    "### **Table of Contents**\n",
    "* [Introduction](#1)\n",
    "* [Data Processing](#2)\n",
    "* [Data Exploration](#3)\n",
    "* [House Prices Prediction](#4)"
   ]
  },
  {
   "cell_type": "code",
   "execution_count": 7,
   "id": "ae2b4565",
   "metadata": {},
   "outputs": [],
   "source": [
    "# Load libraries\n",
    "\n",
    "import pandas as pd\n",
    "import numpy as np\n",
    "\n",
    "import missingno as msno\n",
    "import statsmodels.api as sm\n",
    "\n",
    "# from fbprophet import Prophet\n",
    "\n",
    "import geopandas as gpd\n",
    "\n",
    "import matplotlib.pyplot as plt\n",
    "import seaborn as sns\n",
    "import plotly.graph_objects as go\n",
    "import plotly.express as px\n",
    "from pylab import rcParams\n",
    "rcParams['figure.figsize'] = 15, 12\n",
    "\n",
    "# Allows to display all of the outputs of a cell\n",
    "from IPython.display import display\n",
    "\n",
    "# Set float data type format\n",
    "pd.options.display.float_format = '{:,.2f}'.format\n",
    "\n",
    "# Set the maximum number of row to be displayed\n",
    "pd.options.display.max_rows = 999\n",
    "\n",
    "# Set global visualisation settings\n",
    "plt.rc('font', size=14)"
   ]
  },
  {
   "cell_type": "code",
   "execution_count": null,
   "id": "ada76798",
   "metadata": {},
   "outputs": [],
   "source": []
  }
 ],
 "metadata": {
  "kernelspec": {
   "display_name": "Python 3",
   "language": "python",
   "name": "python3"
  },
  "language_info": {
   "codemirror_mode": {
    "name": "ipython",
    "version": 3
   },
   "file_extension": ".py",
   "mimetype": "text/x-python",
   "name": "python",
   "nbconvert_exporter": "python",
   "pygments_lexer": "ipython3",
   "version": "3.8.8"
  }
 },
 "nbformat": 4,
 "nbformat_minor": 5
}
